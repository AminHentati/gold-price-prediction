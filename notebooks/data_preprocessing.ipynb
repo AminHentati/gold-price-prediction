{
 "cells": [
  {
   "cell_type": "markdown",
   "id": "19461636-c357-432d-94e5-30e34cd9d458",
   "metadata": {},
   "source": [
    "#  Data Loading and Preprocessing\n",
    "\n"
   ]
  },
  {
   "cell_type": "code",
   "execution_count": 23,
   "id": "46f3b9d8-f99d-4739-bff8-1f3d1e132be6",
   "metadata": {},
   "outputs": [
    {
     "data": {
      "text/html": [
       "<div>\n",
       "<style scoped>\n",
       "    .dataframe tbody tr th:only-of-type {\n",
       "        vertical-align: middle;\n",
       "    }\n",
       "\n",
       "    .dataframe tbody tr th {\n",
       "        vertical-align: top;\n",
       "    }\n",
       "\n",
       "    .dataframe thead th {\n",
       "        text-align: right;\n",
       "    }\n",
       "</style>\n",
       "<table border=\"1\" class=\"dataframe\">\n",
       "  <thead>\n",
       "    <tr style=\"text-align: right;\">\n",
       "      <th></th>\n",
       "      <th>Ticker</th>\n",
       "      <th>GC=F</th>\n",
       "      <th>GC=F.1</th>\n",
       "      <th>GC=F.2</th>\n",
       "      <th>GC=F.3</th>\n",
       "      <th>GC=F.4</th>\n",
       "      <th>GC=F.5</th>\n",
       "    </tr>\n",
       "  </thead>\n",
       "  <tbody>\n",
       "    <tr>\n",
       "      <th>0</th>\n",
       "      <td>Date</td>\n",
       "      <td>NaN</td>\n",
       "      <td>NaN</td>\n",
       "      <td>NaN</td>\n",
       "      <td>NaN</td>\n",
       "      <td>NaN</td>\n",
       "      <td>NaN</td>\n",
       "    </tr>\n",
       "    <tr>\n",
       "      <th>1</th>\n",
       "      <td>2010-01-04</td>\n",
       "      <td>1117.699951</td>\n",
       "      <td>1117.699951</td>\n",
       "      <td>1122.300049</td>\n",
       "      <td>1097.099976</td>\n",
       "      <td>1117.699951</td>\n",
       "      <td>184.0</td>\n",
       "    </tr>\n",
       "    <tr>\n",
       "      <th>2</th>\n",
       "      <td>2010-01-05</td>\n",
       "      <td>1118.099976</td>\n",
       "      <td>1118.099976</td>\n",
       "      <td>1126.500000</td>\n",
       "      <td>1115.000000</td>\n",
       "      <td>1118.099976</td>\n",
       "      <td>53.0</td>\n",
       "    </tr>\n",
       "    <tr>\n",
       "      <th>3</th>\n",
       "      <td>2010-01-06</td>\n",
       "      <td>1135.900024</td>\n",
       "      <td>1135.900024</td>\n",
       "      <td>1139.199951</td>\n",
       "      <td>1120.699951</td>\n",
       "      <td>1135.900024</td>\n",
       "      <td>363.0</td>\n",
       "    </tr>\n",
       "    <tr>\n",
       "      <th>4</th>\n",
       "      <td>2010-01-07</td>\n",
       "      <td>1133.099976</td>\n",
       "      <td>1133.099976</td>\n",
       "      <td>1133.099976</td>\n",
       "      <td>1129.199951</td>\n",
       "      <td>1133.099976</td>\n",
       "      <td>56.0</td>\n",
       "    </tr>\n",
       "  </tbody>\n",
       "</table>\n",
       "</div>"
      ],
      "text/plain": [
       "       Ticker         GC=F       GC=F.1       GC=F.2       GC=F.3  \\\n",
       "0        Date          NaN          NaN          NaN          NaN   \n",
       "1  2010-01-04  1117.699951  1117.699951  1122.300049  1097.099976   \n",
       "2  2010-01-05  1118.099976  1118.099976  1126.500000  1115.000000   \n",
       "3  2010-01-06  1135.900024  1135.900024  1139.199951  1120.699951   \n",
       "4  2010-01-07  1133.099976  1133.099976  1133.099976  1129.199951   \n",
       "\n",
       "        GC=F.4  GC=F.5  \n",
       "0          NaN     NaN  \n",
       "1  1117.699951   184.0  \n",
       "2  1118.099976    53.0  \n",
       "3  1135.900024   363.0  \n",
       "4  1133.099976    56.0  "
      ]
     },
     "execution_count": 23,
     "metadata": {},
     "output_type": "execute_result"
    }
   ],
   "source": [
    "import pandas as pd\n",
    "\n",
    "# Load the dataset and skip the problematic row\n",
    "df = pd.read_csv(\"../data/gold_data.csv\", skiprows=1) \n",
    "df.head()\n"
   ]
  },
  {
   "cell_type": "markdown",
   "id": "12cef201-9bc3-4283-8a3f-9a0557826f64",
   "metadata": {},
   "source": [
    "## 1. Rename the columns"
   ]
  },
  {
   "cell_type": "code",
   "execution_count": 24,
   "id": "5aacc54f-b0a8-481c-bc69-ff0d910c9cc2",
   "metadata": {},
   "outputs": [
    {
     "data": {
      "text/html": [
       "<div>\n",
       "<style scoped>\n",
       "    .dataframe tbody tr th:only-of-type {\n",
       "        vertical-align: middle;\n",
       "    }\n",
       "\n",
       "    .dataframe tbody tr th {\n",
       "        vertical-align: top;\n",
       "    }\n",
       "\n",
       "    .dataframe thead th {\n",
       "        text-align: right;\n",
       "    }\n",
       "</style>\n",
       "<table border=\"1\" class=\"dataframe\">\n",
       "  <thead>\n",
       "    <tr style=\"text-align: right;\">\n",
       "      <th></th>\n",
       "      <th>Date</th>\n",
       "      <th>Open</th>\n",
       "      <th>High</th>\n",
       "      <th>Low</th>\n",
       "      <th>Close</th>\n",
       "      <th>Adj Close</th>\n",
       "      <th>Volume</th>\n",
       "    </tr>\n",
       "  </thead>\n",
       "  <tbody>\n",
       "    <tr>\n",
       "      <th>0</th>\n",
       "      <td>Date</td>\n",
       "      <td>NaN</td>\n",
       "      <td>NaN</td>\n",
       "      <td>NaN</td>\n",
       "      <td>NaN</td>\n",
       "      <td>NaN</td>\n",
       "      <td>NaN</td>\n",
       "    </tr>\n",
       "    <tr>\n",
       "      <th>1</th>\n",
       "      <td>2010-01-04</td>\n",
       "      <td>1117.699951</td>\n",
       "      <td>1117.699951</td>\n",
       "      <td>1122.300049</td>\n",
       "      <td>1097.099976</td>\n",
       "      <td>1117.699951</td>\n",
       "      <td>184.0</td>\n",
       "    </tr>\n",
       "    <tr>\n",
       "      <th>2</th>\n",
       "      <td>2010-01-05</td>\n",
       "      <td>1118.099976</td>\n",
       "      <td>1118.099976</td>\n",
       "      <td>1126.500000</td>\n",
       "      <td>1115.000000</td>\n",
       "      <td>1118.099976</td>\n",
       "      <td>53.0</td>\n",
       "    </tr>\n",
       "    <tr>\n",
       "      <th>3</th>\n",
       "      <td>2010-01-06</td>\n",
       "      <td>1135.900024</td>\n",
       "      <td>1135.900024</td>\n",
       "      <td>1139.199951</td>\n",
       "      <td>1120.699951</td>\n",
       "      <td>1135.900024</td>\n",
       "      <td>363.0</td>\n",
       "    </tr>\n",
       "    <tr>\n",
       "      <th>4</th>\n",
       "      <td>2010-01-07</td>\n",
       "      <td>1133.099976</td>\n",
       "      <td>1133.099976</td>\n",
       "      <td>1133.099976</td>\n",
       "      <td>1129.199951</td>\n",
       "      <td>1133.099976</td>\n",
       "      <td>56.0</td>\n",
       "    </tr>\n",
       "  </tbody>\n",
       "</table>\n",
       "</div>"
      ],
      "text/plain": [
       "         Date         Open         High          Low        Close  \\\n",
       "0        Date          NaN          NaN          NaN          NaN   \n",
       "1  2010-01-04  1117.699951  1117.699951  1122.300049  1097.099976   \n",
       "2  2010-01-05  1118.099976  1118.099976  1126.500000  1115.000000   \n",
       "3  2010-01-06  1135.900024  1135.900024  1139.199951  1120.699951   \n",
       "4  2010-01-07  1133.099976  1133.099976  1133.099976  1129.199951   \n",
       "\n",
       "     Adj Close  Volume  \n",
       "0          NaN     NaN  \n",
       "1  1117.699951   184.0  \n",
       "2  1118.099976    53.0  \n",
       "3  1135.900024   363.0  \n",
       "4  1133.099976    56.0  "
      ]
     },
     "execution_count": 24,
     "metadata": {},
     "output_type": "execute_result"
    }
   ],
   "source": [
    "from sklearn.model_selection import train_test_split\n",
    "\n",
    "\n",
    "df.columns = ['Date', 'Open', 'High', 'Low', 'Close', 'Adj Close', 'Volume']\n",
    "df.head()"
   ]
  },
  {
   "cell_type": "markdown",
   "id": "06cb0884-8e48-4835-a5e0-5bf3b5ab4c90",
   "metadata": {},
   "source": [
    "## 2. Drop rows where 'Date' is invalid or NaN"
   ]
  },
  {
   "cell_type": "code",
   "execution_count": 25,
   "id": "8a7cc7c7-65a4-4d49-b7af-de0de48975ee",
   "metadata": {},
   "outputs": [],
   "source": [
    "\n",
    "df = df.dropna(subset=['Date'])\n"
   ]
  },
  {
   "cell_type": "markdown",
   "id": "59078713-b98e-4058-b0cf-d46e095c1854",
   "metadata": {},
   "source": [
    "## 3. Convert 'Date' to datetime format explicitly"
   ]
  },
  {
   "cell_type": "code",
   "execution_count": 26,
   "id": "1a03d987-f4bd-4434-8fe3-54c926b51782",
   "metadata": {},
   "outputs": [],
   "source": [
    "\n",
    "df['Date'] = pd.to_datetime(df['Date'], format='%Y-%m-%d', errors='coerce')"
   ]
  },
  {
   "cell_type": "markdown",
   "id": "c7611c03-6bd3-4ca3-be37-5d06af45dbbd",
   "metadata": {},
   "source": [
    "## 4. Drop any rows where 'Date' could not be parsed"
   ]
  },
  {
   "cell_type": "code",
   "execution_count": 27,
   "id": "7aa7314f-d589-486f-810e-10fab4c652af",
   "metadata": {},
   "outputs": [],
   "source": [
    "df = df.dropna(subset=['Date'])\n"
   ]
  },
  {
   "cell_type": "markdown",
   "id": "aadf5646-2211-4e8c-8e76-402540977380",
   "metadata": {},
   "source": [
    "## 5. Convert numeric columns to numeric type\n"
   ]
  },
  {
   "cell_type": "code",
   "execution_count": 28,
   "id": "6e952114-6304-4be4-be2b-78f3e1e96dd9",
   "metadata": {},
   "outputs": [],
   "source": [
    "numeric_columns = ['Open', 'High', 'Low', 'Close', 'Adj Close', 'Volume']\n",
    "for col in numeric_columns:\n",
    "    df[col] = pd.to_numeric(df[col], errors='coerce')"
   ]
  },
  {
   "cell_type": "markdown",
   "id": "27f7d4cb-c4ae-40c5-8961-eccb02e68228",
   "metadata": {},
   "source": [
    "\n",
    "## 6. Drop rows with missing numeric values"
   ]
  },
  {
   "cell_type": "code",
   "execution_count": 29,
   "id": "7a20405b-5e87-43ae-a08c-abb88d8277a0",
   "metadata": {},
   "outputs": [],
   "source": [
    "\n",
    "df = df.dropna()\n"
   ]
  },
  {
   "cell_type": "markdown",
   "id": "e7a2c215-94f8-45bb-872d-accb987aeba4",
   "metadata": {},
   "source": [
    "## 7. Save the cleaned dataset"
   ]
  },
  {
   "cell_type": "code",
   "execution_count": 30,
   "id": "46c2293f-cbd2-4ace-b43c-33bd53a00460",
   "metadata": {},
   "outputs": [],
   "source": [
    "clean_data_path = '../data/gold_data_clean.csv'\n",
    "df.to_csv(clean_data_path, index=False)"
   ]
  },
  {
   "cell_type": "markdown",
   "id": "65de9407-7aad-4a26-9f3a-54b6af39862b",
   "metadata": {},
   "source": [
    "## 8. Print confirmation message\n"
   ]
  },
  {
   "cell_type": "code",
   "execution_count": 31,
   "id": "4551d17d-cd4e-440b-8fd1-be0bf709bb15",
   "metadata": {},
   "outputs": [
    {
     "name": "stdout",
     "output_type": "stream",
     "text": [
      "Les données nettoyées ont été sauvegardées dans : ../data/gold_data_clean.csv\n"
     ]
    }
   ],
   "source": [
    "print(f\"Les données nettoyées ont été sauvegardées dans : {clean_data_path}\")\n"
   ]
  },
  {
   "cell_type": "code",
   "execution_count": null,
   "id": "83bff215-d347-4ccb-91ae-863e1817782f",
   "metadata": {},
   "outputs": [],
   "source": []
  },
  {
   "cell_type": "code",
   "execution_count": null,
   "id": "65b11bd0-34d7-4302-88c4-0d067358cae5",
   "metadata": {},
   "outputs": [],
   "source": []
  }
 ],
 "metadata": {
  "kernelspec": {
   "display_name": "Python 3 (ipykernel)",
   "language": "python",
   "name": "python3"
  },
  "language_info": {
   "codemirror_mode": {
    "name": "ipython",
    "version": 3
   },
   "file_extension": ".py",
   "mimetype": "text/x-python",
   "name": "python",
   "nbconvert_exporter": "python",
   "pygments_lexer": "ipython3",
   "version": "3.11.5"
  }
 },
 "nbformat": 4,
 "nbformat_minor": 5
}
